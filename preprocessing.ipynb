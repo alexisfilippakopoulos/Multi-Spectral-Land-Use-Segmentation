{
 "cells": [
  {
   "cell_type": "code",
   "execution_count": 2,
   "metadata": {},
   "outputs": [],
   "source": [
    "from PIL import Image\n",
    "import matplotlib.pyplot as plt"
   ]
  },
  {
   "cell_type": "code",
   "execution_count": 1,
   "metadata": {},
   "outputs": [
    {
     "name": "stdout",
     "output_type": "stream",
     "text": [
      "\n",
      "Band   Resolution Shape           Valid Pixels (%)  \n",
      "------------------------------------------------------------\n",
      "B01    60.0       (1830, 1830)    100.00            \n",
      "B02    10.0       (10980, 10980)  100.00            \n"
     ]
    },
    {
     "ename": "KeyboardInterrupt",
     "evalue": "",
     "output_type": "error",
     "traceback": [
      "\u001b[31m---------------------------------------------------------------------------\u001b[39m",
      "\u001b[31mKeyboardInterrupt\u001b[39m                         Traceback (most recent call last)",
      "\u001b[36mCell\u001b[39m\u001b[36m \u001b[39m\u001b[32mIn[1]\u001b[39m\u001b[32m, line 25\u001b[39m\n\u001b[32m     20\u001b[39m             valid_pct = \u001b[32m100\u001b[39m * valid_pixels / total_pixels\n\u001b[32m     22\u001b[39m             \u001b[38;5;28mprint\u001b[39m(\u001b[33mf\u001b[39m\u001b[33m\"\u001b[39m\u001b[38;5;132;01m{\u001b[39;00mband_code\u001b[38;5;132;01m:\u001b[39;00m\u001b[33m<6\u001b[39m\u001b[38;5;132;01m}\u001b[39;00m\u001b[33m \u001b[39m\u001b[38;5;132;01m{\u001b[39;00msrc.res[\u001b[32m0\u001b[39m]\u001b[38;5;132;01m:\u001b[39;00m\u001b[33m<10.1f\u001b[39m\u001b[38;5;132;01m}\u001b[39;00m\u001b[33m \u001b[39m\u001b[38;5;132;01m{\u001b[39;00mimg.shape\u001b[38;5;132;01m!s:\u001b[39;00m\u001b[33m<15\u001b[39m\u001b[38;5;132;01m}\u001b[39;00m\u001b[33m \u001b[39m\u001b[38;5;132;01m{\u001b[39;00mvalid_pct\u001b[38;5;132;01m:\u001b[39;00m\u001b[33m<18.2f\u001b[39m\u001b[38;5;132;01m}\u001b[39;00m\u001b[33m\"\u001b[39m)\n\u001b[32m---> \u001b[39m\u001b[32m25\u001b[39m \u001b[43mcheck_band_coverage\u001b[49m\u001b[43m(\u001b[49m\u001b[33;43m\"\u001b[39;49m\u001b[33;43mdata/S2A_MSIL1C_20210925T092031_N0500_R093_T34SEJ_20230118T233535.SAFE/GRANULE/L1C_T34SEJ_A032694_20210925T092343/IMG_DATA\u001b[39;49m\u001b[33;43m\"\u001b[39;49m\u001b[43m)\u001b[49m\n\u001b[32m     26\u001b[39m check_band_coverage(\u001b[33m\"\u001b[39m\u001b[33mdata/S2A_MSIL1C_20210925T092031_N0500_R093_T34SFJ_20230118T233535.SAFE/GRANULE/L1C_T34SFJ_A032694_20210925T092343/IMG_DATA\u001b[39m\u001b[33m\"\u001b[39m)\n\u001b[32m     27\u001b[39m check_band_coverage(\u001b[33m\"\u001b[39m\u001b[33mdata/S2A_MSIL1C_20210925T092031_N0500_R093_T34TEK_20230118T233535.SAFE/GRANULE/L1C_T34TEK_A032694_20210925T092343/IMG_DATA\u001b[39m\u001b[33m\"\u001b[39m)\n",
      "\u001b[36mCell\u001b[39m\u001b[36m \u001b[39m\u001b[32mIn[1]\u001b[39m\u001b[32m, line 17\u001b[39m, in \u001b[36mcheck_band_coverage\u001b[39m\u001b[34m(directory)\u001b[39m\n\u001b[32m     14\u001b[39m path = os.path.join(directory, fname)\n\u001b[32m     16\u001b[39m \u001b[38;5;28;01mwith\u001b[39;00m rasterio.open(path) \u001b[38;5;28;01mas\u001b[39;00m src:\n\u001b[32m---> \u001b[39m\u001b[32m17\u001b[39m     img = \u001b[43msrc\u001b[49m\u001b[43m.\u001b[49m\u001b[43mread\u001b[49m\u001b[43m(\u001b[49m\u001b[32;43m1\u001b[39;49m\u001b[43m)\u001b[49m\n\u001b[32m     18\u001b[39m     total_pixels = img.size\n\u001b[32m     19\u001b[39m     valid_pixels = np.count_nonzero(img)\n",
      "\u001b[36mFile \u001b[39m\u001b[32mrasterio/_io.pyx:644\u001b[39m, in \u001b[36mrasterio._io.DatasetReaderBase.read\u001b[39m\u001b[34m()\u001b[39m\n",
      "\u001b[36mFile \u001b[39m\u001b[32mrasterio/_io.pyx:969\u001b[39m, in \u001b[36mrasterio._io.DatasetReaderBase._read\u001b[39m\u001b[34m()\u001b[39m\n",
      "\u001b[36mFile \u001b[39m\u001b[32mrasterio/_io.pyx:199\u001b[39m, in \u001b[36mrasterio._io.io_multi_band\u001b[39m\u001b[34m()\u001b[39m\n",
      "\u001b[36mFile \u001b[39m\u001b[32m~/miniconda3/envs/ml_dl/lib/python3.11/contextlib.py:141\u001b[39m, in \u001b[36m_GeneratorContextManager.__exit__\u001b[39m\u001b[34m(self, typ, value, traceback)\u001b[39m\n\u001b[32m    138\u001b[39m     \u001b[38;5;28;01mexcept\u001b[39;00m \u001b[38;5;167;01mStopIteration\u001b[39;00m:\n\u001b[32m    139\u001b[39m         \u001b[38;5;28;01mraise\u001b[39;00m \u001b[38;5;167;01mRuntimeError\u001b[39;00m(\u001b[33m\"\u001b[39m\u001b[33mgenerator didn\u001b[39m\u001b[33m'\u001b[39m\u001b[33mt yield\u001b[39m\u001b[33m\"\u001b[39m) \u001b[38;5;28;01mfrom\u001b[39;00m\u001b[38;5;250m \u001b[39m\u001b[38;5;28;01mNone\u001b[39;00m\n\u001b[32m--> \u001b[39m\u001b[32m141\u001b[39m \u001b[38;5;28;01mdef\u001b[39;00m\u001b[38;5;250m \u001b[39m\u001b[34m__exit__\u001b[39m(\u001b[38;5;28mself\u001b[39m, typ, value, traceback):\n\u001b[32m    142\u001b[39m     \u001b[38;5;28;01mif\u001b[39;00m typ \u001b[38;5;129;01mis\u001b[39;00m \u001b[38;5;28;01mNone\u001b[39;00m:\n\u001b[32m    143\u001b[39m         \u001b[38;5;28;01mtry\u001b[39;00m:\n",
      "\u001b[31mKeyboardInterrupt\u001b[39m: "
     ]
    }
   ],
   "source": [
    "import os\n",
    "import rasterio\n",
    "import numpy as np\n",
    "\n",
    "def check_band_coverage(directory):\n",
    "    print(f\"\\n{'Band':<6} {'Resolution':<10} {'Shape':<15} {'Valid Pixels (%)':<18}\")\n",
    "    print(\"-\" * 60)\n",
    "\n",
    "    for fname in sorted(os.listdir(directory)):\n",
    "        if not fname.endswith('.jp2') or '_TCI' in fname:\n",
    "            continue\n",
    "\n",
    "        band_code = fname.split('_')[-1].replace('.jp2', '')\n",
    "        path = os.path.join(directory, fname)\n",
    "\n",
    "        with rasterio.open(path) as src:\n",
    "            img = src.read(1)\n",
    "            total_pixels = img.size\n",
    "            valid_pixels = np.count_nonzero(img)\n",
    "            valid_pct = 100 * valid_pixels / total_pixels\n",
    "\n",
    "            print(f\"{band_code:<6} {src.res[0]:<10.1f} {img.shape!s:<15} {valid_pct:<18.2f}\")\n",
    "\n",
    "\n",
    "check_band_coverage(\"data/S2A_MSIL1C_20210925T092031_N0500_R093_T34SEJ_20230118T233535.SAFE/GRANULE/L1C_T34SEJ_A032694_20210925T092343/IMG_DATA\")\n",
    "check_band_coverage(\"data/S2A_MSIL1C_20210925T092031_N0500_R093_T34SFJ_20230118T233535.SAFE/GRANULE/L1C_T34SFJ_A032694_20210925T092343/IMG_DATA\")\n",
    "check_band_coverage(\"data/S2A_MSIL1C_20210925T092031_N0500_R093_T34TEK_20230118T233535.SAFE/GRANULE/L1C_T34TEK_A032694_20210925T092343/IMG_DATA\")\n",
    "check_band_coverage(\"data/S2A_MSIL1C_20210925T092031_N0500_R093_T34TFK_20230118T233535.SAFE/GRANULE/L1C_T34TFK_A032694_20210925T092343/IMG_DATA\")"
   ]
  },
  {
   "cell_type": "code",
   "execution_count": 1,
   "metadata": {},
   "outputs": [],
   "source": [
    "import os\n",
    "import rasterio\n",
    "import numpy as np\n",
    "import cv2\n",
    "\n",
    "BANDS_10M = ['B02', 'B03', 'B04', 'B08']\n",
    "BANDS_20M = ['B05', 'B06', 'B07', 'B8A', 'B11', 'B12']\n",
    "BANDS_60M = ['B01', 'B09', 'B10']\n",
    "ALL_BANDS = BANDS_10M + BANDS_20M + BANDS_60M\n",
    "\n",
    "TARGET_SHAPE = (10980, 10980)\n",
    "\n",
    "def pansharpen_to_10m(directory):\n",
    "    band_paths = {}\n",
    "    for fname in os.listdir(directory):\n",
    "        if fname.endswith('.jp2') and '_TCI' not in fname:\n",
    "            band_code = fname.split('_')[-1].replace('.jp2', '')\n",
    "            if band_code in ALL_BANDS:\n",
    "                band_paths[band_code] = os.path.join(directory, fname)\n",
    "\n",
    "    missing = [b for b in ALL_BANDS if b not in band_paths]\n",
    "    if missing:\n",
    "        raise ValueError(f\"Missing bands: {missing}\")\n",
    "\n",
    "    band_data = {}\n",
    "    reference_meta = None\n",
    "\n",
    "    for band in ALL_BANDS:\n",
    "        with rasterio.open(band_paths[band]) as src:\n",
    "            img = src.read(1)\n",
    "            if band in BANDS_10M:\n",
    "                band_data[band] = img\n",
    "                if reference_meta is None:\n",
    "                    reference_meta = src.meta.copy()\n",
    "            else:\n",
    "                resized = cv2.resize(img, (TARGET_SHAPE[1], TARGET_SHAPE[0]), interpolation=cv2.INTER_CUBIC)\n",
    "                band_data[band] = resized\n",
    "\n",
    "    ordered_bands = BANDS_60M + BANDS_10M + BANDS_20M\n",
    "    stacked = np.stack([band_data[b] for b in ordered_bands], axis=0)\n",
    "\n",
    "    reference_meta.update({\n",
    "        \"count\": len(ordered_bands),\n",
    "        \"height\": TARGET_SHAPE[0],\n",
    "        \"width\": TARGET_SHAPE[1]\n",
    "    })\n",
    "\n",
    "    return stacked, reference_meta\n"
   ]
  },
  {
   "cell_type": "code",
   "execution_count": null,
   "metadata": {},
   "outputs": [],
   "source": [
    "stacked_T34SEJ, reference_meta_T34SEJ = pansharpen_to_10m(\"data/S2A_MSIL1C_20210925T092031_N0500_R093_T34SEJ_20230118T233535.SAFE/GRANULE/L1C_T34SEJ_A032694_20210925T092343/IMG_DATA\")\n",
    "stacked_T34SFJ, reference_meta_T34SFJ = pansharpen_to_10m(\"data/S2A_MSIL1C_20210925T092031_N0500_R093_T34SFJ_20230118T233535.SAFE/GRANULE/L1C_T34SFJ_A032694_20210925T092343/IMG_DATA\")\n",
    "stacked_T34TEK, reference_meta_T34TEK = pansharpen_to_10m(\"data/S2A_MSIL1C_20210925T092031_N0500_R093_T34TEK_20230118T233535.SAFE/GRANULE/L1C_T34TEK_A032694_20210925T092343/IMG_DATA\")\n",
    "stacked_T34TFK, reference_meta_T34TFK = pansharpen_to_10m(\"data/S2A_MSIL1C_20210925T092031_N0500_R093_T34TFK_20230118T233535.SAFE/GRANULE/L1C_T34TFK_A032694_20210925T092343/IMG_DATA\")\n",
    "\n",
    "print(stacked_T34SEJ.shape, stacked_T34SFJ.shape, stacked_T34TEK.shape, stacked_T34TFK.shape)"
   ]
  },
  {
   "cell_type": "code",
   "execution_count": 4,
   "metadata": {},
   "outputs": [
    {
     "data": {
      "text/plain": [
       "(13, 10980, 10980)"
      ]
     },
     "execution_count": 4,
     "metadata": {},
     "output_type": "execute_result"
    }
   ],
   "source": [
    "stacked.shape"
   ]
  },
  {
   "cell_type": "code",
   "execution_count": null,
   "metadata": {},
   "outputs": [],
   "source": []
  }
 ],
 "metadata": {
  "kernelspec": {
   "display_name": "ml_dl",
   "language": "python",
   "name": "python3"
  },
  "language_info": {
   "codemirror_mode": {
    "name": "ipython",
    "version": 3
   },
   "file_extension": ".py",
   "mimetype": "text/x-python",
   "name": "python",
   "nbconvert_exporter": "python",
   "pygments_lexer": "ipython3",
   "version": "3.11.11"
  }
 },
 "nbformat": 4,
 "nbformat_minor": 2
}
